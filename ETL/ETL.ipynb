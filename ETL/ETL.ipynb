{
 "cells": [
  {
   "cell_type": "code",
   "execution_count": 4,
   "metadata": {},
   "outputs": [],
   "source": [
    "import pyspark\n",
    "from pyspark.sql import SQLContext\n",
    "import pyspark.sql.functions as sql_functions\n",
    "from  pyspark.sql import SparkSession\n",
    "import datetime"
   ]
  },
  {
   "cell_type": "markdown",
   "metadata": {},
   "source": [
    "# Extraction"
   ]
  },
  {
   "cell_type": "code",
   "execution_count": 5,
   "metadata": {},
   "outputs": [],
   "source": [
    "df = sqlContext.read.csv(\"hdfs://localhost:54310/user/hadoopuser/userlog/user_info.csv\",header = True, inferSchema = True)"
   ]
  },
  {
   "cell_type": "code",
   "execution_count": 6,
   "metadata": {},
   "outputs": [
    {
     "name": "stdout",
     "output_type": "stream",
     "text": [
      "+--------------------+-------------------+-------------------+-------------------+-------------------+\n",
      "|           user_name|          idle_time|      working_hours|         start_time|           end_time|\n",
      "+--------------------+-------------------+-------------------+-------------------+-------------------+\n",
      "|  sahil24c@gmail.com|2019-10-24 05:05:00|2019-10-24 05:50:00|2019-10-24 08:30:02|2019-10-24 19:25:02|\n",
      "|magadum.iranna@gm...|2019-10-24 02:15:00|2019-10-24 08:39:59|2019-10-24 08:30:02|2019-10-24 19:25:01|\n",
      "|  yathink3@gmail.com|2019-10-24 01:30:00|2019-10-24 09:24:59|2019-10-24 08:30:02|2019-10-24 19:25:01|\n",
      "|  shelkeva@gmail.com|2019-10-24 00:30:00|2019-10-24 09:10:01|2019-10-24 08:45:01|2019-10-24 18:25:02|\n",
      "|puruissimple@gmai...|2019-10-24 03:15:00|2019-10-24 07:19:59|2019-10-24 08:50:02|2019-10-24 19:25:01|\n",
      "|sangita.awaghad19...|2019-10-24 01:55:00|2019-10-24 08:40:00|2019-10-24 08:50:01|2019-10-24 19:25:01|\n",
      "|vaishusawant143@g...|2019-10-24 00:35:00|2019-10-24 09:55:00|2019-10-24 08:55:01|2019-10-24 19:25:01|\n",
      "|     you@example.com|2019-10-24 02:35:00|2019-10-24 08:04:59|2019-10-24 08:45:02|2019-10-24 19:25:01|\n",
      "|samadhanmahajan73...|2019-10-24 01:10:00|2019-10-24 08:39:59|2019-10-24 09:00:02|2019-10-24 18:50:01|\n",
      "|vishnu23kumar@gma...|2019-10-24 04:15:00|2019-10-24 06:10:00|2019-10-24 09:00:01|2019-10-24 19:25:01|\n",
      "|ashutoshrit64@gma...|2019-10-24 00:00:00|2019-10-24 10:25:01|2019-10-24 09:00:01|2019-10-24 19:25:02|\n",
      "|akshaybavalekar10...|2019-10-24 01:45:00|2019-10-24 08:35:00|2019-10-24 09:05:01|2019-10-24 19:25:01|\n",
      "|khairnarswapna99@...|2019-10-24 00:50:00|2019-10-24 09:25:00|2019-10-24 09:10:01|2019-10-24 19:25:01|\n",
      "|kukadeshilpaa7m95...|2019-10-24 00:35:00|2019-10-24 09:40:00|2019-10-24 09:10:01|2019-10-24 19:25:01|\n",
      "|sarikabarge111@gm...|2019-10-24 01:20:00|2019-10-24 08:45:00|2019-10-24 09:10:01|2019-10-24 19:15:01|\n",
      "|narsimharaj.kasu0...|2019-10-24 02:05:00|2019-10-24 08:05:00|2019-10-24 09:10:01|2019-10-24 19:20:01|\n",
      "|antonyalexcm@gmai...|2019-10-24 00:00:00|2019-10-24 10:15:00|2019-10-24 09:10:01|2019-10-24 19:25:01|\n",
      "|jitupatil937@gmai...|2019-10-24 00:55:00|2019-10-24 09:20:00|2019-10-24 09:10:01|2019-10-24 19:25:01|\n",
      "|akshaypatwari24@g...|2019-10-24 01:10:00|2019-10-24 09:05:00|2019-10-24 09:10:01|2019-10-24 19:25:01|\n",
      "|aheteshams007@gma...|2019-10-24 01:35:00|2019-10-24 08:50:01|2019-10-24 09:00:01|2019-10-24 19:25:02|\n",
      "+--------------------+-------------------+-------------------+-------------------+-------------------+\n",
      "only showing top 20 rows\n",
      "\n"
     ]
    }
   ],
   "source": [
    "df.show()"
   ]
  },
  {
   "cell_type": "code",
   "execution_count": 7,
   "metadata": {},
   "outputs": [
    {
     "name": "stdout",
     "output_type": "stream",
     "text": [
      "+--------------------+-------------------+-------------------+-------------------+-------------------+\n",
      "|           user_name|          idle_time|      working_hours|         start_time|           end_time|\n",
      "+--------------------+-------------------+-------------------+-------------------+-------------------+\n",
      "|  rr582619@gmail.con|2019-10-24 00:00:00|2019-10-24 09:50:00|2019-10-24 09:35:01|2019-10-24 19:25:01|\n",
      "| addyp1911@gmail.com|2019-10-24 03:10:00|2019-10-24 06:40:00|2019-10-24 09:35:02|2019-10-24 19:25:02|\n",
      "|rohitsarate1027@g...|2019-10-24 00:00:00|2019-10-24 09:50:01|2019-10-24 09:35:01|2019-10-24 19:25:02|\n",
      "|dipakalagate1991@...|2019-10-24 03:10:00|2019-10-24 05:15:01|2019-10-24 09:35:01|2019-10-24 18:00:02|\n",
      "|shibadattanayak@g...|2019-10-24 00:00:00|2019-10-24 09:45:01|2019-10-24 09:35:01|2019-10-24 19:20:02|\n",
      "|durganath123@outl...|2019-10-24 01:15:00|2019-10-24 08:29:59|2019-10-24 09:40:02|2019-10-24 19:25:01|\n",
      "|vaibhavkhadke@gma...|2019-10-24 00:00:00|2019-10-24 09:39:59|2019-10-24 09:45:02|2019-10-24 19:25:01|\n",
      "|gaikwadr576@gmail...|2019-10-24 03:05:00|2019-10-24 06:30:00|2019-10-24 09:50:01|2019-10-24 19:25:01|\n",
      "|kalyani24deobhank...|2019-10-24 01:30:00|2019-10-24 08:05:00|2019-10-24 09:50:01|2019-10-24 19:25:01|\n",
      "|dilipsoni199566@g...|2019-10-24 00:55:00|2019-10-24 08:40:01|2019-10-24 09:50:01|2019-10-24 19:25:02|\n",
      "|surajwarbhuvan192...|2019-10-24 00:30:00|2019-10-24 09:00:00|2019-10-24 09:55:01|2019-10-24 19:25:01|\n",
      "|tekina.makin@gmai...|2019-10-24 09:25:00|2019-10-24 00:10:00|2019-10-24 09:50:01|2019-10-24 19:25:01|\n",
      "|priyankagandhi250...|2019-10-24 00:25:00|2019-10-24 09:15:00|2019-10-24 09:45:01|2019-10-24 19:25:01|\n",
      "|mishrasushil889@g...|2019-10-24 03:30:00|2019-10-24 05:59:59|2019-10-24 09:55:02|2019-10-24 19:25:01|\n",
      "| blsonalib@gmail.com|2019-10-24 02:35:00|2019-10-24 07:05:00|2019-10-24 09:40:01|2019-10-24 19:20:01|\n",
      "|manoj.ks.24.mk@gm...|2019-10-24 00:00:00|2019-10-24 09:05:10|2019-10-24 09:40:01|2019-10-24 18:45:11|\n",
      "|hakepratiksha55@g...|2019-10-24 09:25:00|2019-10-24 00:05:00|2019-10-24 09:55:01|2019-10-24 19:25:01|\n",
      "|vaibhavpratihar17...|2019-10-24 02:50:00|2019-10-24 06:30:00|2019-10-24 10:00:01|2019-10-24 19:20:01|\n",
      "|rawatabhishek2012...|2019-10-24 00:00:00|2019-10-24 09:20:00|2019-10-24 10:00:01|2019-10-24 19:20:01|\n",
      "|indrajeetgajbhiye...|2019-10-24 00:00:00|2019-10-24 08:50:00|2019-10-24 09:55:01|2019-10-24 18:45:01|\n",
      "+--------------------+-------------------+-------------------+-------------------+-------------------+\n",
      "only showing top 20 rows\n",
      "\n"
     ]
    }
   ],
   "source": [
    "start_time1 = df.filter(sql_functions.col('start_time') > '2019-10-24 09:30:02')\n",
    "start_time1.show()"
   ]
  },
  {
   "cell_type": "markdown",
   "metadata": {},
   "source": [
    "# Transform"
   ]
  },
  {
   "cell_type": "code",
   "execution_count": 8,
   "metadata": {},
   "outputs": [
    {
     "name": "stdout",
     "output_type": "stream",
     "text": [
      "+--------------------+-------------------+-------------------+\n",
      "|           user_name|      working_hours|          idle_time|\n",
      "+--------------------+-------------------+-------------------+\n",
      "|  sahil24c@gmail.com|2019-10-24 05:50:00|2019-10-24 05:05:00|\n",
      "|magadum.iranna@gm...|2019-10-24 08:39:59|2019-10-24 02:15:00|\n",
      "|  yathink3@gmail.com|2019-10-24 09:24:59|2019-10-24 01:30:00|\n",
      "|  shelkeva@gmail.com|2019-10-24 09:10:01|2019-10-24 00:30:00|\n",
      "|puruissimple@gmai...|2019-10-24 07:19:59|2019-10-24 03:15:00|\n",
      "|sangita.awaghad19...|2019-10-24 08:40:00|2019-10-24 01:55:00|\n",
      "|vaishusawant143@g...|2019-10-24 09:55:00|2019-10-24 00:35:00|\n",
      "|     you@example.com|2019-10-24 08:04:59|2019-10-24 02:35:00|\n",
      "|samadhanmahajan73...|2019-10-24 08:39:59|2019-10-24 01:10:00|\n",
      "|vishnu23kumar@gma...|2019-10-24 06:10:00|2019-10-24 04:15:00|\n",
      "|ashutoshrit64@gma...|2019-10-24 10:25:01|2019-10-24 00:00:00|\n",
      "|akshaybavalekar10...|2019-10-24 08:35:00|2019-10-24 01:45:00|\n",
      "|khairnarswapna99@...|2019-10-24 09:25:00|2019-10-24 00:50:00|\n",
      "|kukadeshilpaa7m95...|2019-10-24 09:40:00|2019-10-24 00:35:00|\n",
      "|sarikabarge111@gm...|2019-10-24 08:45:00|2019-10-24 01:20:00|\n",
      "|narsimharaj.kasu0...|2019-10-24 08:05:00|2019-10-24 02:05:00|\n",
      "|antonyalexcm@gmai...|2019-10-24 10:15:00|2019-10-24 00:00:00|\n",
      "|jitupatil937@gmai...|2019-10-24 09:20:00|2019-10-24 00:55:00|\n",
      "|akshaypatwari24@g...|2019-10-24 09:05:00|2019-10-24 01:10:00|\n",
      "|aheteshams007@gma...|2019-10-24 08:50:01|2019-10-24 01:35:00|\n",
      "+--------------------+-------------------+-------------------+\n",
      "only showing top 20 rows\n",
      "\n"
     ]
    }
   ],
   "source": [
    "Transfer=df.select('user_name','working_hours','idle_time')\n",
    "Transfer.show()"
   ]
  },
  {
   "cell_type": "code",
   "execution_count": 9,
   "metadata": {},
   "outputs": [
    {
     "name": "stdout",
     "output_type": "stream",
     "text": [
      "+--------------------+-----+\n",
      "|           user_name|count|\n",
      "+--------------------+-----+\n",
      "|ashutoshrit64@gma...|    1|\n",
      "|giridhardandikwar...|    1|\n",
      "|       nikitapawar17|    1|\n",
      "|salinabodale73@gm...|    1|\n",
      "|mail2anik.officia...|    1|\n",
      "|“shivnajalisangal...|    1|\n",
      "|indrajeetgajbhiye...|    1|\n",
      "|khairnarswapna99@...|    1|\n",
      "|aman.raj251@gmail...|    1|\n",
      "|Krushnanikam26@gm...|    1|\n",
      "|gaikwadr576@gmail...|    1|\n",
      "|adikumar2514@gmai...|    1|\n",
      "|magadum.iranna@gm...|    1|\n",
      "| dileep.bs@yahoo.com|    1|\n",
      "|puruissimple@gmai...|    1|\n",
      "|prajktasraut16@gm...|    1|\n",
      "|er.mukulvij96@gma...|    1|\n",
      "|samruddhichitnis0...|    1|\n",
      "|surajwarbhuvan192...|    1|\n",
      "|hakepratiksha55@g...|    1|\n",
      "+--------------------+-----+\n",
      "only showing top 20 rows\n",
      "\n",
      "None\n"
     ]
    }
   ],
   "source": [
    "usernames=df.groupBy('user_name').count()\n",
    "print(usernames.show())"
   ]
  },
  {
   "cell_type": "markdown",
   "metadata": {},
   "source": [
    "# Load"
   ]
  },
  {
   "cell_type": "code",
   "execution_count": 10,
   "metadata": {},
   "outputs": [
    {
     "name": "stdout",
     "output_type": "stream",
     "text": [
      "+--------------------+-------------------+\n",
      "|           user_name|         start_time|\n",
      "+--------------------+-------------------+\n",
      "|  sahil24c@gmail.com|2019-10-24 08:30:02|\n",
      "|magadum.iranna@gm...|2019-10-24 08:30:02|\n",
      "|  yathink3@gmail.com|2019-10-24 08:30:02|\n",
      "|  shelkeva@gmail.com|2019-10-24 08:45:01|\n",
      "|puruissimple@gmai...|2019-10-24 08:50:02|\n",
      "|sangita.awaghad19...|2019-10-24 08:50:01|\n",
      "|vaishusawant143@g...|2019-10-24 08:55:01|\n",
      "|     you@example.com|2019-10-24 08:45:02|\n",
      "|samadhanmahajan73...|2019-10-24 09:00:02|\n",
      "|vishnu23kumar@gma...|2019-10-24 09:00:01|\n",
      "|ashutoshrit64@gma...|2019-10-24 09:00:01|\n",
      "|akshaybavalekar10...|2019-10-24 09:05:01|\n",
      "|khairnarswapna99@...|2019-10-24 09:10:01|\n",
      "|kukadeshilpaa7m95...|2019-10-24 09:10:01|\n",
      "|sarikabarge111@gm...|2019-10-24 09:10:01|\n",
      "|narsimharaj.kasu0...|2019-10-24 09:10:01|\n",
      "|antonyalexcm@gmai...|2019-10-24 09:10:01|\n",
      "|jitupatil937@gmai...|2019-10-24 09:10:01|\n",
      "|akshaypatwari24@g...|2019-10-24 09:10:01|\n",
      "|aheteshams007@gma...|2019-10-24 09:00:01|\n",
      "+--------------------+-------------------+\n",
      "only showing top 20 rows\n",
      "\n"
     ]
    }
   ],
   "source": [
    "data=df.select('user_name','start_time')\n",
    "data.show()"
   ]
  },
  {
   "cell_type": "code",
   "execution_count": 11,
   "metadata": {},
   "outputs": [],
   "source": [
    "data.write.csv (\"hdfs://localhost:54310/user/hadoopuser/ETL/userinfo\")\n"
   ]
  }
 ],
 "metadata": {
  "kernelspec": {
   "display_name": "Python 3",
   "language": "python",
   "name": "python3"
  },
  "language_info": {
   "codemirror_mode": {
    "name": "ipython",
    "version": 3
   },
   "file_extension": ".py",
   "mimetype": "text/x-python",
   "name": "python",
   "nbconvert_exporter": "python",
   "pygments_lexer": "ipython3",
   "version": "3.6.9"
  }
 },
 "nbformat": 4,
 "nbformat_minor": 2
}
