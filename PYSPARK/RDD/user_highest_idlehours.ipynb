{
 "cells": [
  {
   "cell_type": "code",
   "execution_count": 1,
   "metadata": {},
   "outputs": [],
   "source": [
    "from pyspark.sql import SparkSession\n",
    "from pyspark.sql import SQLContext\n",
    "import datetime\n",
    "from pyspark.sql.functions import col, lit, avg\n",
    "from pyspark.sql import *"
   ]
  },
  {
   "cell_type": "code",
   "execution_count": 2,
   "metadata": {},
   "outputs": [],
   "source": [
    "#importing csv file from hdfs\n",
    "user_data = sc.textFile(\"hdfs://localhost:54310/user/hive/warehouse/data/user_info.csv\").map(lambda x:x.split(\",\"))"
   ]
  },
  {
   "cell_type": "code",
   "execution_count": 3,
   "metadata": {},
   "outputs": [],
   "source": [
    "user_df = sqlContext.createDataFrame(data=user_data.filter(lambda x:x[0]!='user_name'),\n",
    "                             schema=user_data.filter(lambda x:x[0]=='user_name').collect()[0])"
   ]
  },
  {
   "cell_type": "code",
   "execution_count": 4,
   "metadata": {},
   "outputs": [],
   "source": [
    "# creating new column named seconds with username\n",
    "hours_list = []\n",
    "for row in user_df.collect():\n",
    "    # converting string type of datetime to datetime\n",
    "    date_time = datetime.datetime.strptime(row['idle_time'], \"%Y-%m-%d %H:%M:%S\")\n",
    "    seconds_data = date_time.hour * 3600 + date_time.minute *60 + date_time.second\n",
    "    hours_list.append((row['user_name'], seconds_data))"
   ]
  },
  {
   "cell_type": "code",
   "execution_count": 5,
   "metadata": {},
   "outputs": [],
   "source": [
    "#creating new column dataframe to join with original dataframe( new_log_dataframe)\n",
    "column = sqlContext.createDataFrame(hours_list, ('username',\"seconds\"))"
   ]
  },
  {
   "cell_type": "code",
   "execution_count": 6,
   "metadata": {},
   "outputs": [],
   "source": [
    "#merge new column with the dataframe \n",
    "dataframe = (user_df\n",
    ".join(column, col(\"user_name\")==col(\"username\")))\n"
   ]
  },
  {
   "cell_type": "code",
   "execution_count": 7,
   "metadata": {},
   "outputs": [],
   "source": [
    "#obtaining avarage value of seconds by using aggregate function\n",
    "average_data=dataframe.agg(avg(col(\"seconds\")))\n",
    "average = average_data.collect()[0][0]"
   ]
  },
  {
   "cell_type": "code",
   "execution_count": 8,
   "metadata": {},
   "outputs": [],
   "source": [
    "#filtering dataframe with highest average hours users\n",
    "highest_idle_hours = dataframe.filter(dataframe['seconds'] > average)\n"
   ]
  },
  {
   "cell_type": "code",
   "execution_count": 9,
   "metadata": {},
   "outputs": [
    {
     "name": "stdout",
     "output_type": "stream",
     "text": [
      "+--------------------+-------+\n",
      "|           user_name|seconds|\n",
      "+--------------------+-------+\n",
      "|       nikitapawar17|  22800|\n",
      "|“shivnajalisangal...|  35400|\n",
      "|gaikwadr576@gmail...|  11100|\n",
      "|magadum.iranna@gm...|   8100|\n",
      "| dileep.bs@yahoo.com|  12300|\n",
      "|puruissimple@gmai...|  11700|\n",
      "|hakepratiksha55@g...|  33900|\n",
      "|tekina.makin@gmai...|  33900|\n",
      "| addyp1911@gmail.com|  11400|\n",
      "| blsonalib@gmail.com|   9300|\n",
      "|20150773@dbatu.ac.in|  11100|\n",
      "|farooqbassam4@gma...|   9000|\n",
      "|ruchikachile30199...|  12900|\n",
      "|polelaxman001@gma...|  33300|\n",
      "|ayush.saraf47@gma...|  15600|\n",
      "|surajpj7852@gmail...|   7800|\n",
      "|     you@example.com|   9300|\n",
      "|vishnu23kumar@gma...|  15300|\n",
      "|  sahil24c@gmail.com|  18300|\n",
      "|sargampandey27oct...|  17100|\n",
      "+--------------------+-------+\n",
      "only showing top 20 rows\n",
      "\n"
     ]
    }
   ],
   "source": [
    "highest_idle_hours.select(\"user_name\",\"seconds\").show()"
   ]
  },
  {
   "cell_type": "code",
   "execution_count": 11,
   "metadata": {},
   "outputs": [
    {
     "name": "stdout",
     "output_type": "stream",
     "text": [
      "+--------------------+\n",
      "|           user_name|\n",
      "+--------------------+\n",
      "|       nikitapawar17|\n",
      "|“shivnajalisangal...|\n",
      "|gaikwadr576@gmail...|\n",
      "|magadum.iranna@gm...|\n",
      "| dileep.bs@yahoo.com|\n",
      "|puruissimple@gmai...|\n",
      "|hakepratiksha55@g...|\n",
      "|tekina.makin@gmai...|\n",
      "| addyp1911@gmail.com|\n",
      "| blsonalib@gmail.com|\n",
      "|20150773@dbatu.ac.in|\n",
      "|farooqbassam4@gma...|\n",
      "|ruchikachile30199...|\n",
      "|polelaxman001@gma...|\n",
      "|ayush.saraf47@gma...|\n",
      "|surajpj7852@gmail...|\n",
      "|     you@example.com|\n",
      "|vishnu23kumar@gma...|\n",
      "|  sahil24c@gmail.com|\n",
      "|sargampandey27oct...|\n",
      "+--------------------+\n",
      "only showing top 20 rows\n",
      "\n"
     ]
    }
   ],
   "source": [
    "#filtering users having highest idle value\n",
    "highest_idle_hours.select(\"user_name\").show()"
   ]
  },
  {
   "cell_type": "code",
   "execution_count": null,
   "metadata": {},
   "outputs": [],
   "source": []
  }
 ],
 "metadata": {
  "kernelspec": {
   "display_name": "Python 3",
   "language": "python",
   "name": "python3"
  },
  "language_info": {
   "codemirror_mode": {
    "name": "ipython",
    "version": 3
   },
   "file_extension": ".py",
   "mimetype": "text/x-python",
   "name": "python",
   "nbconvert_exporter": "python",
   "pygments_lexer": "ipython3",
   "version": "3.6.9"
  }
 },
 "nbformat": 4,
 "nbformat_minor": 2
}
