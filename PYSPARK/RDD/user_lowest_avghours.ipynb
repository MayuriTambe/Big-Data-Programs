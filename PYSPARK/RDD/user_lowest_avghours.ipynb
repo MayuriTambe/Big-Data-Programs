{
 "cells": [
  {
   "cell_type": "code",
   "execution_count": 1,
   "metadata": {},
   "outputs": [],
   "source": [
    "from pyspark.sql import SparkSession\n",
    "from pyspark.sql import SQLContext\n",
    "import datetime\n",
    "from pyspark.sql.functions import col, lit, avg\n",
    "from pyspark.sql import *"
   ]
  },
  {
   "cell_type": "code",
   "execution_count": 2,
   "metadata": {},
   "outputs": [],
   "source": [
    "#importing csv file from hdfs\n",
    "user_data=user_log_data = sc.textFile(\"hdfs://localhost:54310/user/hive/warehouse/data/user_info.csv\").map(lambda x:x.split(\",\"))"
   ]
  },
  {
   "cell_type": "code",
   "execution_count": 3,
   "metadata": {},
   "outputs": [],
   "source": [
    "user_df = sqlContext.createDataFrame(data=user_data.filter(lambda x:x[0]!='user_name'),\n",
    "                             schema=user_data.filter(lambda x:x[0]=='user_name').collect()[0])"
   ]
  },
  {
   "cell_type": "code",
   "execution_count": 4,
   "metadata": {},
   "outputs": [],
   "source": [
    "# creating new column named seconds with username\n",
    "hours_list = []\n",
    "for row in user_df.collect():\n",
    "    # converting string type of datetime to datetime\n",
    "    date_time = datetime.datetime.strptime(row['working_hours'], \"%Y-%m-%d %H:%M:%S\")\n",
    "    seconds_data = date_time.hour * 3600 + date_time.minute *60 + date_time.second\n",
    "    hours_list.append((row['user_name'], seconds_data))"
   ]
  },
  {
   "cell_type": "code",
   "execution_count": 5,
   "metadata": {},
   "outputs": [],
   "source": [
    " #creating new column dataframe to join with original dataframe( new_log_dataframe)\n",
    "column = sqlContext.createDataFrame(hours_list, ('username',\"seconds\"))"
   ]
  },
  {
   "cell_type": "code",
   "execution_count": 6,
   "metadata": {},
   "outputs": [],
   "source": [
    "#merge new column with the dataframe \n",
    "dataframe = (user_df\n",
    ".join(column, col(\"user_name\")==col(\"username\")))\n"
   ]
  },
  {
   "cell_type": "code",
   "execution_count": 7,
   "metadata": {},
   "outputs": [],
   "source": [
    "#obtaining avarage value of seconds by using aggregate function\n",
    "average_data=dataframe.agg(avg(col(\"seconds\")))\n",
    "average = average_data.collect()[0][0]"
   ]
  },
  {
   "cell_type": "code",
   "execution_count": 8,
   "metadata": {},
   "outputs": [],
   "source": [
    "#filtering dataframe with lowest average hours users\n",
    "\n",
    "lowest_average_hours = dataframe.filter(dataframe['seconds'] < average)\n"
   ]
  },
  {
   "cell_type": "code",
   "execution_count": 9,
   "metadata": {},
   "outputs": [
    {
     "name": "stdout",
     "output_type": "stream",
     "text": [
      "+--------------------+-------+\n",
      "|           user_name|seconds|\n",
      "+--------------------+-------+\n",
      "|       nikitapawar17|   6600|\n",
      "|mail2anik.officia...|   5400|\n",
      "|“shivnajalisangal...|    300|\n",
      "|gaikwadr576@gmail...|  23400|\n",
      "|adikumar2514@gmai...|  24599|\n",
      "| dileep.bs@yahoo.com|  20100|\n",
      "|er.mukulvij96@gma...|  24899|\n",
      "|hakepratiksha55@g...|    300|\n",
      "|vidyaramesh1428@g...|   9299|\n",
      "|tekina.makin@gmai...|    600|\n",
      "| addyp1911@gmail.com|  24000|\n",
      "| blsonalib@gmail.com|  25500|\n",
      "|20150773@dbatu.ac.in|  19500|\n",
      "|ruchikachile30199...|  21899|\n",
      "|shrutid2497@gmail...|  10200|\n",
      "|vijaykumarbhavanu...|  25500|\n",
      "|polelaxman001@gma...|   1200|\n",
      "|ayush.saraf47@gma...|  21001|\n",
      "|akshay.skawde@gma...|   3600|\n",
      "|vishnu23kumar@gma...|  22200|\n",
      "+--------------------+-------+\n",
      "only showing top 20 rows\n",
      "\n"
     ]
    }
   ],
   "source": [
    "lowest_average_hours.select(\"user_name\",\"seconds\").show()"
   ]
  },
  {
   "cell_type": "code",
   "execution_count": 10,
   "metadata": {},
   "outputs": [
    {
     "name": "stdout",
     "output_type": "stream",
     "text": [
      "+--------------------+\n",
      "|           user_name|\n",
      "+--------------------+\n",
      "|       nikitapawar17|\n",
      "|mail2anik.officia...|\n",
      "|“shivnajalisangal...|\n",
      "|gaikwadr576@gmail...|\n",
      "|adikumar2514@gmai...|\n",
      "| dileep.bs@yahoo.com|\n",
      "|er.mukulvij96@gma...|\n",
      "|hakepratiksha55@g...|\n",
      "|vidyaramesh1428@g...|\n",
      "|tekina.makin@gmai...|\n",
      "| addyp1911@gmail.com|\n",
      "| blsonalib@gmail.com|\n",
      "|20150773@dbatu.ac.in|\n",
      "|ruchikachile30199...|\n",
      "|shrutid2497@gmail...|\n",
      "|vijaykumarbhavanu...|\n",
      "|polelaxman001@gma...|\n",
      "|ayush.saraf47@gma...|\n",
      "|akshay.skawde@gma...|\n",
      "|vishnu23kumar@gma...|\n",
      "+--------------------+\n",
      "only showing top 20 rows\n",
      "\n"
     ]
    }
   ],
   "source": [
    "#filtering users having lowest average value\n",
    "lowest_average_hours.select(\"user_name\").show()"
   ]
  },
  {
   "cell_type": "code",
   "execution_count": null,
   "metadata": {},
   "outputs": [],
   "source": []
  }
 ],
 "metadata": {
  "kernelspec": {
   "display_name": "Python 3",
   "language": "python",
   "name": "python3"
  },
  "language_info": {
   "codemirror_mode": {
    "name": "ipython",
    "version": 3
   },
   "file_extension": ".py",
   "mimetype": "text/x-python",
   "name": "python",
   "nbconvert_exporter": "python",
   "pygments_lexer": "ipython3",
   "version": "3.6.9"
  }
 },
 "nbformat": 4,
 "nbformat_minor": 2
}
