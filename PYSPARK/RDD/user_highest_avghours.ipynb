{
 "cells": [
  {
   "cell_type": "code",
   "execution_count": 6,
   "metadata": {},
   "outputs": [],
   "source": [
    "from pyspark.sql import SparkSession\n",
    "from pyspark.sql import SQLContext\n",
    "import datetime\n",
    "from pyspark.sql.functions import col, lit, avg\n",
    "from pyspark.sql import *"
   ]
  },
  {
   "cell_type": "code",
   "execution_count": 7,
   "metadata": {},
   "outputs": [],
   "source": [
    "#importing csv file from hdfs\n",
    "user_data= sc.textFile(\"hdfs://localhost:54310/user/hive/warehouse/data/user_info.csv\").map(lambda x:x.split(\",\"))"
   ]
  },
  {
   "cell_type": "code",
   "execution_count": 8,
   "metadata": {},
   "outputs": [],
   "source": [
    "user_df = sqlContext.createDataFrame(data=user_data.filter(lambda x:x[0]!='user_name'),\n",
    "                             schema=user_data.filter(lambda x:x[0]=='user_name').collect()[0])"
   ]
  },
  {
   "cell_type": "code",
   "execution_count": 9,
   "metadata": {},
   "outputs": [],
   "source": [
    "# creating new column named seconds with username\n",
    "hours_list = []\n",
    "for row in user_df.collect():\n",
    "    # converting string type of datetime to datetime\n",
    "    date_time = datetime.datetime.strptime(row['working_hours'], \"%Y-%m-%d %H:%M:%S\")\n",
    "    seconds_data = date_time.hour * 3600 + date_time.minute *60 + date_time.second\n",
    "    hours_list.append((row['user_name'], seconds_data))"
   ]
  },
  {
   "cell_type": "code",
   "execution_count": 13,
   "metadata": {},
   "outputs": [],
   "source": [
    " #creating new column dataframe to join with original dataframe( new_log_dataframe)\n",
    "column = sqlContext.createDataFrame(hours_list, ('username',\"seconds\"))"
   ]
  },
  {
   "cell_type": "code",
   "execution_count": 14,
   "metadata": {},
   "outputs": [],
   "source": [
    "#merge new column with the dataframe \n",
    "dataframe = (user_df\n",
    ".join(column, col(\"user_name\")==col(\"username\")))\n"
   ]
  },
  {
   "cell_type": "code",
   "execution_count": 15,
   "metadata": {},
   "outputs": [],
   "source": [
    "#obtaining avarage value of seconds by using aggregate function\n",
    "average_data=dataframe.agg(avg(col(\"seconds\")))\n",
    "average = average_data.collect()[0][0]"
   ]
  },
  {
   "cell_type": "code",
   "execution_count": 16,
   "metadata": {},
   "outputs": [],
   "source": [
    "#filtering dataframe with highest average hours users\n",
    "highest_average_hours = dataframe.filter(dataframe['seconds'] > average)\n"
   ]
  },
  {
   "cell_type": "code",
   "execution_count": 17,
   "metadata": {},
   "outputs": [
    {
     "name": "stdout",
     "output_type": "stream",
     "text": [
      "+--------------------+-------+\n",
      "|           user_name|seconds|\n",
      "+--------------------+-------+\n",
      "|ashutoshrit64@gma...|  37501|\n",
      "|giridhardandikwar...|  27900|\n",
      "|salinabodale73@gm...|  27000|\n",
      "|indrajeetgajbhiye...|  31800|\n",
      "|khairnarswapna99@...|  33900|\n",
      "|aman.raj251@gmail...|  26100|\n",
      "|Krushnanikam26@gm...|  27601|\n",
      "|magadum.iranna@gm...|  31199|\n",
      "|puruissimple@gmai...|  26399|\n",
      "|prajktasraut16@gm...|  32699|\n",
      "|samruddhichitnis0...|  33908|\n",
      "|surajwarbhuvan192...|  32400|\n",
      "| grmule018@gmail.com|  29100|\n",
      "|  shelkeva@gmail.com|  33001|\n",
      "|akshaypatwari24@g...|  32700|\n",
      "|rohitsarate1027@g...|  35401|\n",
      "|sharlawar77@gmail...|  34200|\n",
      "|kaleshwetaanil@gm...|  34199|\n",
      "|rahilstar11@gmail...|  32100|\n",
      "|antonyalexcm@gmai...|  36900|\n",
      "+--------------------+-------+\n",
      "only showing top 20 rows\n",
      "\n"
     ]
    }
   ],
   "source": [
    "highest_average_hours.select(\"user_name\",\"seconds\").show()"
   ]
  },
  {
   "cell_type": "code",
   "execution_count": 18,
   "metadata": {},
   "outputs": [
    {
     "name": "stdout",
     "output_type": "stream",
     "text": [
      "+--------------------+\n",
      "|           user_name|\n",
      "+--------------------+\n",
      "|ashutoshrit64@gma...|\n",
      "|giridhardandikwar...|\n",
      "|salinabodale73@gm...|\n",
      "|indrajeetgajbhiye...|\n",
      "|khairnarswapna99@...|\n",
      "|aman.raj251@gmail...|\n",
      "|Krushnanikam26@gm...|\n",
      "|magadum.iranna@gm...|\n",
      "|puruissimple@gmai...|\n",
      "|prajktasraut16@gm...|\n",
      "|samruddhichitnis0...|\n",
      "|surajwarbhuvan192...|\n",
      "| grmule018@gmail.com|\n",
      "|  shelkeva@gmail.com|\n",
      "|akshaypatwari24@g...|\n",
      "|rohitsarate1027@g...|\n",
      "|sharlawar77@gmail...|\n",
      "|kaleshwetaanil@gm...|\n",
      "|rahilstar11@gmail...|\n",
      "|antonyalexcm@gmai...|\n",
      "+--------------------+\n",
      "only showing top 20 rows\n",
      "\n"
     ]
    }
   ],
   "source": [
    "#filtering users having highest average value\n",
    "highest_average_hours.select(\"user_name\").show()"
   ]
  },
  {
   "cell_type": "code",
   "execution_count": null,
   "metadata": {},
   "outputs": [],
   "source": []
  }
 ],
 "metadata": {
  "kernelspec": {
   "display_name": "Python 3",
   "language": "python",
   "name": "python3"
  },
  "language_info": {
   "codemirror_mode": {
    "name": "ipython",
    "version": 3
   },
   "file_extension": ".py",
   "mimetype": "text/x-python",
   "name": "python",
   "nbconvert_exporter": "python",
   "pygments_lexer": "ipython3",
   "version": "3.6.9"
  }
 },
 "nbformat": 4,
 "nbformat_minor": 2
}
