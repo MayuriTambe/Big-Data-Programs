{
 "cells": [
  {
   "cell_type": "code",
   "execution_count": null,
   "metadata": {},
   "outputs": [],
   "source": [
    "import pyspark\n",
    "from pyspark.sql import SQLContext\n",
    "from pyspark.sql.functions import col, lit, avg\n",
    "from pyspark.sql import *"
   ]
  },
  {
   "cell_type": "code",
   "execution_count": null,
   "metadata": {},
   "outputs": [],
   "source": [
    "#importing data from local sysytem\n",
    "user_df = spark.read.csv(\"file:///home/hduser/user_info.csv\" , inferSchema=True , header=True)\n",
    "print(user_df.show())\n"
   ]
  },
  {
   "cell_type": "code",
   "execution_count": 27,
   "metadata": {
    "scrolled": false
   },
   "outputs": [],
   "source": [
    "#filering users from the data\n",
    "late_user = user_df.filter(user_df.start_time<=\"2019-10-24 09:30:00\")"
   ]
  },
  {
   "cell_type": "code",
   "execution_count": 28,
   "metadata": {},
   "outputs": [
    {
     "name": "stdout",
     "output_type": "stream",
     "text": [
      "+--------------------+-------------------+-------------------+-------------------+-------------------+\n",
      "|           user_name|          idle_time|      working_hours|         start_time|           end_time|\n",
      "+--------------------+-------------------+-------------------+-------------------+-------------------+\n",
      "|prathameshsalap@g...|2019-10-24 01:10:00|2019-10-24 08:29:59|2019-10-24 09:30:02|2019-10-24 19:10:01|\n",
      "|“shivnajalisangal...|2019-10-24 09:50:00|2019-10-24 00:05:00|2019-10-24 09:30:01|2019-10-24 19:25:01|\n",
      "|bhiogadepriyanka9...|2019-10-24 00:50:00|2019-10-24 08:10:00|2019-10-24 09:30:02|2019-10-24 18:30:02|\n",
      "|  rr582619@gmail.con|2019-10-24 00:00:00|2019-10-24 09:50:00|2019-10-24 09:35:01|2019-10-24 19:25:01|\n",
      "| addyp1911@gmail.com|2019-10-24 03:10:00|2019-10-24 06:40:00|2019-10-24 09:35:02|2019-10-24 19:25:02|\n",
      "|rohitsarate1027@g...|2019-10-24 00:00:00|2019-10-24 09:50:01|2019-10-24 09:35:01|2019-10-24 19:25:02|\n",
      "|dipakalagate1991@...|2019-10-24 03:10:00|2019-10-24 05:15:01|2019-10-24 09:35:01|2019-10-24 18:00:02|\n",
      "|shibadattanayak@g...|2019-10-24 00:00:00|2019-10-24 09:45:01|2019-10-24 09:35:01|2019-10-24 19:20:02|\n",
      "|pradeepbamin5@gma...|2019-10-24 01:25:00|2019-10-24 08:25:00|2019-10-24 09:30:02|2019-10-24 19:20:02|\n",
      "|durganath123@outl...|2019-10-24 01:15:00|2019-10-24 08:29:59|2019-10-24 09:40:02|2019-10-24 19:25:01|\n",
      "|vaibhavkhadke@gma...|2019-10-24 00:00:00|2019-10-24 09:39:59|2019-10-24 09:45:02|2019-10-24 19:25:01|\n",
      "|gaikwadr576@gmail...|2019-10-24 03:05:00|2019-10-24 06:30:00|2019-10-24 09:50:01|2019-10-24 19:25:01|\n",
      "|kalyani24deobhank...|2019-10-24 01:30:00|2019-10-24 08:05:00|2019-10-24 09:50:01|2019-10-24 19:25:01|\n",
      "|dilipsoni199566@g...|2019-10-24 00:55:00|2019-10-24 08:40:01|2019-10-24 09:50:01|2019-10-24 19:25:02|\n",
      "|surajwarbhuvan192...|2019-10-24 00:30:00|2019-10-24 09:00:00|2019-10-24 09:55:01|2019-10-24 19:25:01|\n",
      "|tekina.makin@gmai...|2019-10-24 09:25:00|2019-10-24 00:10:00|2019-10-24 09:50:01|2019-10-24 19:25:01|\n",
      "|priyankagandhi250...|2019-10-24 00:25:00|2019-10-24 09:15:00|2019-10-24 09:45:01|2019-10-24 19:25:01|\n",
      "|mishrasushil889@g...|2019-10-24 03:30:00|2019-10-24 05:59:59|2019-10-24 09:55:02|2019-10-24 19:25:01|\n",
      "| blsonalib@gmail.com|2019-10-24 02:35:00|2019-10-24 07:05:00|2019-10-24 09:40:01|2019-10-24 19:20:01|\n",
      "|manoj.ks.24.mk@gm...|2019-10-24 00:00:00|2019-10-24 09:05:10|2019-10-24 09:40:01|2019-10-24 18:45:11|\n",
      "+--------------------+-------------------+-------------------+-------------------+-------------------+\n",
      "only showing top 20 rows\n",
      "\n"
     ]
    }
   ],
   "source": [
    "late_user.show()"
   ]
  },
  {
   "cell_type": "code",
   "execution_count": 29,
   "metadata": {},
   "outputs": [
    {
     "data": {
      "text/plain": [
       "54"
      ]
     },
     "execution_count": 29,
     "metadata": {},
     "output_type": "execute_result"
    }
   ],
   "source": [
    "#late users list\n",
    "late_user.count()"
   ]
  },
  {
   "cell_type": "code",
   "execution_count": null,
   "metadata": {},
   "outputs": [],
   "source": []
  }
 ],
 "metadata": {
  "kernelspec": {
   "display_name": "Python 3",
   "language": "python",
   "name": "python3"
  },
  "language_info": {
   "codemirror_mode": {
    "name": "ipython",
    "version": 3
   },
   "file_extension": ".py",
   "mimetype": "text/x-python",
   "name": "python",
   "nbconvert_exporter": "python",
   "pygments_lexer": "ipython3",
   "version": "3.6.9"
  }
 },
 "nbformat": 4,
 "nbformat_minor": 2
}
